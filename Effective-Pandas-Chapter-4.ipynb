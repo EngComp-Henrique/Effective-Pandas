{
  "nbformat": 4,
  "nbformat_minor": 0,
  "metadata": {
    "colab": {
      "provenance": [],
      "collapsed_sections": [],
      "authorship_tag": "ABX9TyP2wTN8+r05mv/qBMqTCsPe",
      "include_colab_link": true
    },
    "kernelspec": {
      "name": "python3",
      "display_name": "Python 3"
    },
    "language_info": {
      "name": "python"
    }
  },
  "cells": [
    {
      "cell_type": "markdown",
      "metadata": {
        "id": "view-in-github",
        "colab_type": "text"
      },
      "source": [
        "<a href=\"https://colab.research.google.com/github/EngComp-Henrique/Effective-Pandas/blob/main/Effective-Pandas-Chapter-4.ipynb\" target=\"_parent\"><img src=\"https://colab.research.google.com/assets/colab-badge.svg\" alt=\"Open In Colab\"/></a>"
      ]
    },
    {
      "cell_type": "markdown",
      "source": [
        "## Content\n",
        "* Study of `Series` data structure\n",
        "* Dictionaries and series\n",
        "* `Numpy` as `Series`\n",
        "* `dtypes`\n",
        "\n",
        "## What is a Series\n",
        "* A unidimensional data structure\n",
        "* Imagine we want to represent this:\n",
        "\n",
        "|  hello | world |\n",
        "|--------|-------|\n",
        "|    0   |  145  | \n",
        "|    1   |  142  |\n",
        "|    2   |   38  | \n",
        "|    3   |   13  |\n",
        "\n",
        "We could use a built-in python data structure"
      ],
      "metadata": {
        "id": "9yerASpLivVR"
      }
    },
    {
      "cell_type": "code",
      "execution_count": 1,
      "metadata": {
        "id": "GHIm_1z3ioev"
      },
      "outputs": [],
      "source": [
        "series = {\n",
        "    'index':    [0, 1, 2, 3],\n",
        "    'data':     [145, 142, 38, 13],\n",
        "    'name':     'songs'\n",
        "}"
      ]
    },
    {
      "cell_type": "markdown",
      "source": [
        "Getting items by index"
      ],
      "metadata": {
        "id": "vp5L7BeHjtjf"
      }
    },
    {
      "cell_type": "code",
      "source": [
        "def get_items_by_index(series, idx):\n",
        "    value_idx = series['index'].index(idx)\n",
        "    return series['data'][value_idx]"
      ],
      "metadata": {
        "id": "U-b1uLjRjahf"
      },
      "execution_count": 2,
      "outputs": []
    },
    {
      "cell_type": "code",
      "source": [
        "get_items_by_index(series, 1)"
      ],
      "metadata": {
        "colab": {
          "base_uri": "https://localhost:8080/"
        },
        "id": "PObXqlJskD5k",
        "outputId": "93d022f6-2ac4-4c64-e33f-ba735f5cddec"
      },
      "execution_count": 3,
      "outputs": [
        {
          "output_type": "execute_result",
          "data": {
            "text/plain": [
              "142"
            ]
          },
          "metadata": {},
          "execution_count": 3
        }
      ]
    },
    {
      "cell_type": "markdown",
      "source": [
        "It's also possible to use this function even the indexes are strings"
      ],
      "metadata": {
        "id": "zVS0xynol8Ex"
      }
    },
    {
      "cell_type": "code",
      "source": [
        "songs = {\n",
        "    'index':[ 'Paul' , 'John' , 'George', 'Ringo'],\n",
        "    'data':[145 , 142 , 38 , 13] ,\n",
        "    'name': 'counts'\n",
        "}"
      ],
      "metadata": {
        "id": "9I85rrYskHPp"
      },
      "execution_count": 4,
      "outputs": []
    },
    {
      "cell_type": "code",
      "source": [
        "get_items_by_index(songs, 'John')"
      ],
      "metadata": {
        "colab": {
          "base_uri": "https://localhost:8080/"
        },
        "id": "NbXjyEccmHct",
        "outputId": "598ec509-3ee1-4a57-ae2c-10b4b7e0064c"
      },
      "execution_count": 5,
      "outputs": [
        {
          "output_type": "execute_result",
          "data": {
            "text/plain": [
              "142"
            ]
          },
          "metadata": {},
          "execution_count": 5
        }
      ]
    },
    {
      "cell_type": "markdown",
      "source": [
        "### The pandas series\n",
        "* Let's take a look at how we could do the same job using Series"
      ],
      "metadata": {
        "id": "qsOvVqi-mlqq"
      }
    },
    {
      "cell_type": "code",
      "source": [
        "import pandas as pd\n",
        "songs2 = pd.Series([145, 148, 38, 13], name='counts')\n",
        "songs2"
      ],
      "metadata": {
        "colab": {
          "base_uri": "https://localhost:8080/"
        },
        "id": "FXTgDbZ-mLfG",
        "outputId": "d7903afd-febe-4f08-b2e4-2a99a0bdb3ab"
      },
      "execution_count": 6,
      "outputs": [
        {
          "output_type": "execute_result",
          "data": {
            "text/plain": [
              "0    145\n",
              "1    148\n",
              "2     38\n",
              "3     13\n",
              "Name: counts, dtype: int64"
            ]
          },
          "metadata": {},
          "execution_count": 6
        }
      ]
    },
    {
      "cell_type": "code",
      "source": [
        "songs2.index"
      ],
      "metadata": {
        "colab": {
          "base_uri": "https://localhost:8080/"
        },
        "id": "agmt8r-pnC7B",
        "outputId": "0e266582-1c26-4f80-dfe8-5bed25eee937"
      },
      "execution_count": 7,
      "outputs": [
        {
          "output_type": "execute_result",
          "data": {
            "text/plain": [
              "RangeIndex(start=0, stop=4, step=1)"
            ]
          },
          "metadata": {},
          "execution_count": 7
        }
      ]
    },
    {
      "cell_type": "code",
      "source": [
        "songs3 = pd.Series(\n",
        "    [145 , 142 , 38 , 13],\n",
        "    name='counts',\n",
        "    index=['Paul' , 'John' , 'George', 'Ringo'])"
      ],
      "metadata": {
        "id": "ccnYy0Mnn530"
      },
      "execution_count": 8,
      "outputs": []
    },
    {
      "cell_type": "code",
      "source": [
        "songs3.index"
      ],
      "metadata": {
        "colab": {
          "base_uri": "https://localhost:8080/"
        },
        "id": "gSoTTeIYoRfp",
        "outputId": "cdaeda09-03b1-45e7-ca60-10bb8740b1db"
      },
      "execution_count": 9,
      "outputs": [
        {
          "output_type": "execute_result",
          "data": {
            "text/plain": [
              "Index(['Paul', 'John', 'George', 'Ringo'], dtype='object')"
            ]
          },
          "metadata": {},
          "execution_count": 9
        }
      ]
    },
    {
      "cell_type": "markdown",
      "source": [
        "\n",
        "When dtype is object: \n",
        "1. Strings values are used as indexes\n",
        "2. Heterogeneous or mixed types\n",
        "\n",
        "Don't use object type when you have numerical or date types"
      ],
      "metadata": {
        "id": "vAiVvLhwqATU"
      }
    },
    {
      "cell_type": "markdown",
      "source": [
        "## The `NaN` value\n",
        "* It's a standar for *Not a number* value\n",
        "* Not considered in numerical operations\n",
        "* Just supported by `float64`\n",
        "\n",
        "### Note\n",
        "Because `NaN` is only supported by `float64`, a broadcast operation takes place, so the numerical data will be converted. See the example below"
      ],
      "metadata": {
        "id": "fPwM3IXdp1U_"
      }
    },
    {
      "cell_type": "code",
      "source": [
        "import numpy as np\n",
        "nan_series = pd.Series([2, np.nan],\n",
        "            index=['Ono', 'Clapton'])"
      ],
      "metadata": {
        "id": "tBc2W1RdoeTZ"
      },
      "execution_count": 10,
      "outputs": []
    },
    {
      "cell_type": "code",
      "source": [
        "nan_series"
      ],
      "metadata": {
        "colab": {
          "base_uri": "https://localhost:8080/"
        },
        "id": "h6lnpix7qlz-",
        "outputId": "6946db61-c4d9-40ae-8d31-1186fd2f9d09"
      },
      "execution_count": 11,
      "outputs": [
        {
          "output_type": "execute_result",
          "data": {
            "text/plain": [
              "Ono        2.0\n",
              "Clapton    NaN\n",
              "dtype: float64"
            ]
          },
          "metadata": {},
          "execution_count": 11
        }
      ]
    },
    {
      "cell_type": "markdown",
      "source": [
        "Notice the `count` method return the value of non-NA values observation in the series"
      ],
      "metadata": {
        "id": "Vaovcp7eJy3U"
      }
    },
    {
      "cell_type": "code",
      "source": [
        "nan_series.count()"
      ],
      "metadata": {
        "colab": {
          "base_uri": "https://localhost:8080/"
        },
        "id": "6dg5Lkd4qtUF",
        "outputId": "7267aafd-06fd-457d-834c-1e62e4ba74fd"
      },
      "execution_count": 12,
      "outputs": [
        {
          "output_type": "execute_result",
          "data": {
            "text/plain": [
              "1"
            ]
          },
          "metadata": {},
          "execution_count": 12
        }
      ]
    },
    {
      "cell_type": "markdown",
      "source": [
        "The size property also counts the NA values"
      ],
      "metadata": {
        "id": "wzuaKyLIJ_qy"
      }
    },
    {
      "cell_type": "code",
      "source": [
        "nan_series.size"
      ],
      "metadata": {
        "id": "Go-36JZLrj3A",
        "outputId": "e8b69644-6295-474a-ed5d-c311ad9e60e6",
        "colab": {
          "base_uri": "https://localhost:8080/"
        }
      },
      "execution_count": 13,
      "outputs": [
        {
          "output_type": "execute_result",
          "data": {
            "text/plain": [
              "2"
            ]
          },
          "metadata": {},
          "execution_count": 13
        }
      ]
    },
    {
      "cell_type": "markdown",
      "source": [
        "## Optional Integer Support for `NaN`\n",
        "* `int64` doesn't support NA values! But it is possible to consider them using the `dtype=Int64`\n",
        "* The broadcast operation won't happen!\n",
        "\n",
        "#### Note\n",
        "* In general, missing data is cleared"
      ],
      "metadata": {
        "id": "GDP0keK1KF6X"
      }
    },
    {
      "cell_type": "code",
      "source": [
        "nan_series2 = pd.Series([2, None], index=['Ono', 'Clapton'], dtype='Int64')\n",
        "nan_series2"
      ],
      "metadata": {
        "id": "ulH04W1brlhd",
        "colab": {
          "base_uri": "https://localhost:8080/"
        },
        "outputId": "b994ec9d-0a36-48dd-92e5-70ed8c2ae0f2"
      },
      "execution_count": 14,
      "outputs": [
        {
          "output_type": "execute_result",
          "data": {
            "text/plain": [
              "Ono           2\n",
              "Clapton    <NA>\n",
              "dtype: Int64"
            ]
          },
          "metadata": {},
          "execution_count": 14
        }
      ]
    },
    {
      "cell_type": "code",
      "source": [
        "nan_series2.count()"
      ],
      "metadata": {
        "colab": {
          "base_uri": "https://localhost:8080/"
        },
        "id": "gXTA7FohLjPS",
        "outputId": "5f2a426c-90ae-48d3-89e9-9225d2a662b2"
      },
      "execution_count": 15,
      "outputs": [
        {
          "output_type": "execute_result",
          "data": {
            "text/plain": [
              "1"
            ]
          },
          "metadata": {},
          "execution_count": 15
        }
      ]
    },
    {
      "cell_type": "code",
      "source": [
        "nan_series2.size"
      ],
      "metadata": {
        "colab": {
          "base_uri": "https://localhost:8080/"
        },
        "id": "mH93Vx0TLrZo",
        "outputId": "c7aa4006-52ba-4e9f-990f-df5fb87d6b62"
      },
      "execution_count": 16,
      "outputs": [
        {
          "output_type": "execute_result",
          "data": {
            "text/plain": [
              "2"
            ]
          },
          "metadata": {},
          "execution_count": 16
        }
      ]
    },
    {
      "cell_type": "markdown",
      "source": [
        "## Similar to `Numpy`"
      ],
      "metadata": {
        "id": "NkYyvYLaMZco"
      }
    },
    {
      "cell_type": "code",
      "source": [
        "import numpy as np\n",
        "\n",
        "numpy_ser = np.array([145 , 142 , 38 , 13])"
      ],
      "metadata": {
        "id": "BIuRhQN_LuYl"
      },
      "execution_count": 17,
      "outputs": []
    },
    {
      "cell_type": "code",
      "source": [
        "songs3[1] == numpy_ser[1]"
      ],
      "metadata": {
        "colab": {
          "base_uri": "https://localhost:8080/"
        },
        "id": "31TuF7dVMt9Q",
        "outputId": "d00cd25a-b6ee-4922-f3b4-7abb95d233dd"
      },
      "execution_count": 18,
      "outputs": [
        {
          "output_type": "execute_result",
          "data": {
            "text/plain": [
              "True"
            ]
          },
          "metadata": {},
          "execution_count": 18
        }
      ]
    },
    {
      "cell_type": "markdown",
      "source": [
        "it is possible to filter data, both in `Series` and in `Numpy`, once both support the *boolean array* concept"
      ],
      "metadata": {
        "id": "eOnswPuKN5Cb"
      }
    },
    {
      "cell_type": "code",
      "source": [
        "songs3.mean()"
      ],
      "metadata": {
        "colab": {
          "base_uri": "https://localhost:8080/"
        },
        "id": "IApp0BZOMx3N",
        "outputId": "b0a41658-b4c6-4b70-9aa6-50d6c1148502"
      },
      "execution_count": 19,
      "outputs": [
        {
          "output_type": "execute_result",
          "data": {
            "text/plain": [
              "84.5"
            ]
          },
          "metadata": {},
          "execution_count": 19
        }
      ]
    },
    {
      "cell_type": "code",
      "source": [
        "numpy_ser.mean()"
      ],
      "metadata": {
        "colab": {
          "base_uri": "https://localhost:8080/"
        },
        "id": "LuOTHpLZOIwr",
        "outputId": "ab311e1a-257a-49b5-9e88-1be705ef524a"
      },
      "execution_count": 20,
      "outputs": [
        {
          "output_type": "execute_result",
          "data": {
            "text/plain": [
              "84.5"
            ]
          },
          "metadata": {},
          "execution_count": 20
        }
      ]
    },
    {
      "cell_type": "code",
      "source": [
        "mask = songs3 > songs3.mean()\n",
        "mask"
      ],
      "metadata": {
        "colab": {
          "base_uri": "https://localhost:8080/"
        },
        "id": "Awn20_OHOK1d",
        "outputId": "49c90ce4-2ccc-4971-fb80-33ffa2b49c87"
      },
      "execution_count": 21,
      "outputs": [
        {
          "output_type": "execute_result",
          "data": {
            "text/plain": [
              "Paul       True\n",
              "John       True\n",
              "George    False\n",
              "Ringo     False\n",
              "Name: counts, dtype: bool"
            ]
          },
          "metadata": {},
          "execution_count": 21
        }
      ]
    },
    {
      "cell_type": "code",
      "source": [
        "songs3[mask]"
      ],
      "metadata": {
        "colab": {
          "base_uri": "https://localhost:8080/"
        },
        "id": "KbbjCjiaOV4C",
        "outputId": "65d258dc-6a74-41ae-8ea9-2559bcb013b7"
      },
      "execution_count": 22,
      "outputs": [
        {
          "output_type": "execute_result",
          "data": {
            "text/plain": [
              "Paul    145\n",
              "John    142\n",
              "Name: counts, dtype: int64"
            ]
          },
          "metadata": {},
          "execution_count": 22
        }
      ]
    },
    {
      "cell_type": "code",
      "source": [
        "numpy_ser[numpy_ser >np . median ( numpy_ser )]"
      ],
      "metadata": {
        "colab": {
          "base_uri": "https://localhost:8080/"
        },
        "id": "Smg6DXmPOkFZ",
        "outputId": "4a679b79-a4ef-47f1-ef7d-d9f781f00d7b"
      },
      "execution_count": 23,
      "outputs": [
        {
          "output_type": "execute_result",
          "data": {
            "text/plain": [
              "array([145, 142])"
            ]
          },
          "metadata": {},
          "execution_count": 23
        }
      ]
    },
    {
      "cell_type": "markdown",
      "source": [
        "## Categorical Data\n",
        "* Use less memory than string type\n",
        "* Improve Performance\n",
        "* Can have an ordering\n",
        "* Can perform operations on categories\n",
        "* Enforce membership values"
      ],
      "metadata": {
        "id": "E7IiNNcLPs0O"
      }
    },
    {
      "cell_type": "code",
      "source": [
        "s = pd.Series(['m', 'l', 'xs', 's', 'xl'], dtype='category')"
      ],
      "metadata": {
        "id": "qszfISIHOlm5"
      },
      "execution_count": 24,
      "outputs": []
    },
    {
      "cell_type": "code",
      "source": [
        "s"
      ],
      "metadata": {
        "colab": {
          "base_uri": "https://localhost:8080/"
        },
        "id": "eOLUG-X5QxBu",
        "outputId": "bddf6414-28b9-4a0c-e4f8-23c2f6dff788"
      },
      "execution_count": 25,
      "outputs": [
        {
          "output_type": "execute_result",
          "data": {
            "text/plain": [
              "0     m\n",
              "1     l\n",
              "2    xs\n",
              "3     s\n",
              "4    xl\n",
              "dtype: category\n",
              "Categories (5, object): ['l', 'm', 's', 'xl', 'xs']"
            ]
          },
          "metadata": {},
          "execution_count": 25
        }
      ]
    },
    {
      "cell_type": "markdown",
      "source": [
        "As we can see, categories can be ordered or not"
      ],
      "metadata": {
        "id": "sm6RlaDaRVdf"
      }
    },
    {
      "cell_type": "code",
      "source": [
        "s.cat.ordered"
      ],
      "metadata": {
        "colab": {
          "base_uri": "https://localhost:8080/"
        },
        "id": "ur8kzJFIQxa7",
        "outputId": "7869c1c3-34ae-44be-d179-f248f4d18f7d"
      },
      "execution_count": 26,
      "outputs": [
        {
          "output_type": "execute_result",
          "data": {
            "text/plain": [
              "False"
            ]
          },
          "metadata": {},
          "execution_count": 26
        }
      ]
    },
    {
      "cell_type": "markdown",
      "source": [
        "Giving an order to the `Series`"
      ],
      "metadata": {
        "id": "OCL4ua0nR31j"
      }
    },
    {
      "cell_type": "code",
      "source": [
        "s2 = pd.Series(['m', 'l', 'xs', 's', 'xl'], dtype='category')\n",
        "size_type = pd.api.types.CategoricalDtype(\n",
        "    categories=['s', 'm', 'l'], ordered=True)"
      ],
      "metadata": {
        "id": "jVx-cRrKRBYN"
      },
      "execution_count": 27,
      "outputs": []
    },
    {
      "cell_type": "code",
      "source": [
        "size_type"
      ],
      "metadata": {
        "colab": {
          "base_uri": "https://localhost:8080/"
        },
        "id": "JxXe3oteRzO7",
        "outputId": "11118172-20ed-46a7-84cc-afa3cd30425f"
      },
      "execution_count": 28,
      "outputs": [
        {
          "output_type": "execute_result",
          "data": {
            "text/plain": [
              "CategoricalDtype(categories=['s', 'm', 'l'], ordered=True)"
            ]
          },
          "metadata": {},
          "execution_count": 28
        }
      ]
    },
    {
      "cell_type": "markdown",
      "source": [
        "Creating the ordered categories"
      ],
      "metadata": {
        "id": "6X9nzD0MR8XH"
      }
    },
    {
      "cell_type": "code",
      "source": [
        "s3 = s2.astype(size_type)"
      ],
      "metadata": {
        "id": "7ag5S53UR0sU"
      },
      "execution_count": 29,
      "outputs": []
    },
    {
      "cell_type": "code",
      "source": [
        "s3"
      ],
      "metadata": {
        "colab": {
          "base_uri": "https://localhost:8080/"
        },
        "id": "8JKO_gpnSCAa",
        "outputId": "97b2ce88-79d0-439e-9b77-1ba2f06da52c"
      },
      "execution_count": 30,
      "outputs": [
        {
          "output_type": "execute_result",
          "data": {
            "text/plain": [
              "0      m\n",
              "1      l\n",
              "2    NaN\n",
              "3      s\n",
              "4    NaN\n",
              "dtype: category\n",
              "Categories (3, object): ['s' < 'm' < 'l']"
            ]
          },
          "metadata": {},
          "execution_count": 30
        }
      ]
    },
    {
      "cell_type": "markdown",
      "source": [
        "Now we can make comparisons"
      ],
      "metadata": {
        "id": "RqDEU6OYSQqr"
      }
    },
    {
      "cell_type": "code",
      "source": [
        "s3 > 's'"
      ],
      "metadata": {
        "colab": {
          "base_uri": "https://localhost:8080/"
        },
        "id": "RojAD7ZPSCuu",
        "outputId": "2fe5cc4e-c039-4a9a-fb94-3e7fb86865ce"
      },
      "execution_count": 31,
      "outputs": [
        {
          "output_type": "execute_result",
          "data": {
            "text/plain": [
              "0     True\n",
              "1     True\n",
              "2    False\n",
              "3    False\n",
              "4    False\n",
              "dtype: bool"
            ]
          },
          "metadata": {},
          "execution_count": 31
        }
      ]
    },
    {
      "cell_type": "markdown",
      "source": [
        "Reordering operation\n",
        "\n",
        "### Note\n",
        "* The categories **must** be the same!"
      ],
      "metadata": {
        "id": "YL3gU4CTScwf"
      }
    },
    {
      "cell_type": "code",
      "source": [
        "s.cat.reorder_categories(['xs','s','m','l', 'xl'], ordered=True)"
      ],
      "metadata": {
        "colab": {
          "base_uri": "https://localhost:8080/"
        },
        "id": "eu7R3Q5jSb7S",
        "outputId": "94356dbd-2319-4d7c-9c6f-8323abeb8b01"
      },
      "execution_count": 32,
      "outputs": [
        {
          "output_type": "execute_result",
          "data": {
            "text/plain": [
              "0     m\n",
              "1     l\n",
              "2    xs\n",
              "3     s\n",
              "4    xl\n",
              "dtype: category\n",
              "Categories (5, object): ['xs' < 's' < 'm' < 'l' < 'xl']"
            ]
          },
          "metadata": {},
          "execution_count": 32
        }
      ]
    },
    {
      "cell_type": "markdown",
      "source": [
        "We get an error if the categories are different"
      ],
      "metadata": {
        "id": "vLw2m2O3TEG-"
      }
    },
    {
      "cell_type": "code",
      "source": [
        "try:\n",
        "    s.cat.reorder_categories(['a','b','c','d', 'e'], ordered=True)\n",
        "except ValueError:\n",
        "    print(\"ValueError: items in new_categories are not the same as in old categories\")"
      ],
      "metadata": {
        "colab": {
          "base_uri": "https://localhost:8080/"
        },
        "id": "ciumun2CSw4K",
        "outputId": "10555bf6-894f-44a5-a7fb-9b8bb885b1db"
      },
      "execution_count": 33,
      "outputs": [
        {
          "output_type": "stream",
          "name": "stdout",
          "text": [
            "ValueError: items in new_categories are not the same as in old categories\n"
          ]
        }
      ]
    },
    {
      "cell_type": "markdown",
      "source": [
        "---\n",
        "## Exercises\n",
        "\n",
        "1. Using Jupyter, create a series with the temperature values for the last seven days. Filter out the values below the mean."
      ],
      "metadata": {
        "id": "G5Gy9DXyexTE"
      }
    },
    {
      "cell_type": "code",
      "source": [
        "weather_week = pd.Series(\n",
        "    data=[21.0, 22.0, 22.0, 23.0, 21.0, 21.0, 22.0],\n",
        "    index=[\"Sun\", \"Mon\", \"Tue\", \"Wed\", \"Thu\", \"Fri\", \"Sat\"],\n",
        "    dtype='float64'\n",
        ")"
      ],
      "metadata": {
        "id": "JXF4FWjQTDJT"
      },
      "execution_count": 34,
      "outputs": []
    },
    {
      "cell_type": "code",
      "source": [
        "weather_week"
      ],
      "metadata": {
        "colab": {
          "base_uri": "https://localhost:8080/"
        },
        "id": "jAPT-wTZjDQz",
        "outputId": "95db75db-487b-4fb0-a083-4c9eae47c7a9"
      },
      "execution_count": 35,
      "outputs": [
        {
          "output_type": "execute_result",
          "data": {
            "text/plain": [
              "Sun    21.0\n",
              "Mon    22.0\n",
              "Tue    22.0\n",
              "Wed    23.0\n",
              "Thu    21.0\n",
              "Fri    21.0\n",
              "Sat    22.0\n",
              "dtype: float64"
            ]
          },
          "metadata": {},
          "execution_count": 35
        }
      ]
    },
    {
      "cell_type": "code",
      "source": [
        "weather_week.mean()"
      ],
      "metadata": {
        "colab": {
          "base_uri": "https://localhost:8080/"
        },
        "id": "0HGgyHK4jbh2",
        "outputId": "0dbed0d3-9ea2-4152-ac72-e41d90ca40be"
      },
      "execution_count": 36,
      "outputs": [
        {
          "output_type": "execute_result",
          "data": {
            "text/plain": [
              "21.714285714285715"
            ]
          },
          "metadata": {},
          "execution_count": 36
        }
      ]
    },
    {
      "cell_type": "code",
      "source": [
        "mask = weather_week > weather_week.mean()\n",
        "mask"
      ],
      "metadata": {
        "colab": {
          "base_uri": "https://localhost:8080/"
        },
        "id": "UR_UUNFjjI-6",
        "outputId": "77b6a8b4-1e50-4781-dd77-e5a415678809"
      },
      "execution_count": 37,
      "outputs": [
        {
          "output_type": "execute_result",
          "data": {
            "text/plain": [
              "Sun    False\n",
              "Mon     True\n",
              "Tue     True\n",
              "Wed     True\n",
              "Thu    False\n",
              "Fri    False\n",
              "Sat     True\n",
              "dtype: bool"
            ]
          },
          "metadata": {},
          "execution_count": 37
        }
      ]
    },
    {
      "cell_type": "code",
      "source": [
        "weather_week[mask]"
      ],
      "metadata": {
        "colab": {
          "base_uri": "https://localhost:8080/"
        },
        "id": "xBHGKSySjS3L",
        "outputId": "0c6eea3a-06b7-4371-cd1f-44051d57d311"
      },
      "execution_count": 38,
      "outputs": [
        {
          "output_type": "execute_result",
          "data": {
            "text/plain": [
              "Mon    22.0\n",
              "Tue    22.0\n",
              "Wed    23.0\n",
              "Sat    22.0\n",
              "dtype: float64"
            ]
          },
          "metadata": {},
          "execution_count": 38
        }
      ]
    },
    {
      "cell_type": "markdown",
      "source": [
        "2. Using Jupyter, create a series with your favorite colors. Use a categorical type."
      ],
      "metadata": {
        "id": "yyiQuC-9hPod"
      }
    },
    {
      "cell_type": "code",
      "source": [
        "colors = pd.Series([\"Black\", \"White\", \"Blue\", \"Pink\"], dtype='category')\n",
        "colors_order = pd.api.types.CategoricalDtype([\"Black\", \"White\", \"Blue\", \"Pink\"], ordered=True)"
      ],
      "metadata": {
        "id": "XmYpvb9ehQB5"
      },
      "execution_count": 39,
      "outputs": []
    },
    {
      "cell_type": "code",
      "source": [
        "colors"
      ],
      "metadata": {
        "colab": {
          "base_uri": "https://localhost:8080/"
        },
        "id": "4g5Zl5AijyoV",
        "outputId": "b73945de-1039-4863-a8c5-cc68fbe60bac"
      },
      "execution_count": 40,
      "outputs": [
        {
          "output_type": "execute_result",
          "data": {
            "text/plain": [
              "0    Black\n",
              "1    White\n",
              "2     Blue\n",
              "3     Pink\n",
              "dtype: category\n",
              "Categories (4, object): ['Black', 'Blue', 'Pink', 'White']"
            ]
          },
          "metadata": {},
          "execution_count": 40
        }
      ]
    },
    {
      "cell_type": "code",
      "source": [
        "colors_order"
      ],
      "metadata": {
        "colab": {
          "base_uri": "https://localhost:8080/"
        },
        "id": "tMiWhm3ejzdP",
        "outputId": "2d3e3664-cf16-4c6d-dff9-6976adbd44da"
      },
      "execution_count": 41,
      "outputs": [
        {
          "output_type": "execute_result",
          "data": {
            "text/plain": [
              "CategoricalDtype(categories=['Black', 'White', 'Blue', 'Pink'], ordered=True)"
            ]
          },
          "metadata": {},
          "execution_count": 41
        }
      ]
    },
    {
      "cell_type": "code",
      "source": [
        "ordered_colors = colors.astype(colors_order)"
      ],
      "metadata": {
        "id": "l4boIeKtkO_x"
      },
      "execution_count": 42,
      "outputs": []
    },
    {
      "cell_type": "code",
      "source": [
        "ordered_colors"
      ],
      "metadata": {
        "colab": {
          "base_uri": "https://localhost:8080/"
        },
        "id": "BEAQpPQlkSyK",
        "outputId": "ff047721-f160-44f7-cad5-999f55444adf"
      },
      "execution_count": 43,
      "outputs": [
        {
          "output_type": "execute_result",
          "data": {
            "text/plain": [
              "0    Black\n",
              "1    White\n",
              "2     Blue\n",
              "3     Pink\n",
              "dtype: category\n",
              "Categories (4, object): ['Black' < 'White' < 'Blue' < 'Pink']"
            ]
          },
          "metadata": {},
          "execution_count": 43
        }
      ]
    },
    {
      "cell_type": "code",
      "source": [],
      "metadata": {
        "id": "gXjfGhi9kUTD"
      },
      "execution_count": 43,
      "outputs": []
    }
  ]
}